{
  "nbformat": 4,
  "nbformat_minor": 0,
  "metadata": {
    "colab": {
      "provenance": [],
      "gpuType": "T4"
    },
    "kernelspec": {
      "name": "python3",
      "display_name": "Python 3"
    },
    "language_info": {
      "name": "python"
    },
    "accelerator": "GPU"
  },
  "cells": [
    {
      "cell_type": "code",
      "source": [
        "!pip install python-docx"
      ],
      "metadata": {
        "colab": {
          "base_uri": "https://localhost:8080/"
        },
        "id": "x243dY2cPuSy",
        "outputId": "03ec43bd-a82d-45f0-be0f-a55919d51055"
      },
      "execution_count": null,
      "outputs": [
        {
          "output_type": "stream",
          "name": "stdout",
          "text": [
            "Collecting python-docx\n",
            "  Downloading python_docx-1.1.2-py3-none-any.whl.metadata (2.0 kB)\n",
            "Requirement already satisfied: lxml>=3.1.0 in /usr/local/lib/python3.11/dist-packages (from python-docx) (5.3.0)\n",
            "Requirement already satisfied: typing-extensions>=4.9.0 in /usr/local/lib/python3.11/dist-packages (from python-docx) (4.12.2)\n",
            "Downloading python_docx-1.1.2-py3-none-any.whl (244 kB)\n",
            "\u001b[?25l   \u001b[90m━━━━━━━━━━━━━━━━━━━━━━━━━━━━━━━━━━━━━━━━\u001b[0m \u001b[32m0.0/244.3 kB\u001b[0m \u001b[31m?\u001b[0m eta \u001b[36m-:--:--\u001b[0m\r\u001b[2K   \u001b[90m━━━━━━━━━━━━━━━━━━━━━━━━━━━━━━━━━━━━━━━━\u001b[0m \u001b[32m244.3/244.3 kB\u001b[0m \u001b[31m17.3 MB/s\u001b[0m eta \u001b[36m0:00:00\u001b[0m\n",
            "\u001b[?25hInstalling collected packages: python-docx\n",
            "Successfully installed python-docx-1.1.2\n"
          ]
        }
      ]
    },
    {
      "cell_type": "code",
      "source": [
        "!pip install PyMuPDF\n"
      ],
      "metadata": {
        "colab": {
          "base_uri": "https://localhost:8080/"
        },
        "id": "gXfC66VPPxH0",
        "outputId": "d4220105-61b9-4fde-bc01-8cf558002478"
      },
      "execution_count": null,
      "outputs": [
        {
          "output_type": "stream",
          "name": "stdout",
          "text": [
            "Collecting PyMuPDF\n",
            "  Downloading pymupdf-1.25.2-cp39-abi3-manylinux2014_x86_64.manylinux_2_17_x86_64.whl.metadata (3.4 kB)\n",
            "Downloading pymupdf-1.25.2-cp39-abi3-manylinux2014_x86_64.manylinux_2_17_x86_64.whl (20.0 MB)\n",
            "\u001b[2K   \u001b[90m━━━━━━━━━━━━━━━━━━━━━━━━━━━━━━━━━━━━━━━━\u001b[0m \u001b[32m20.0/20.0 MB\u001b[0m \u001b[31m54.9 MB/s\u001b[0m eta \u001b[36m0:00:00\u001b[0m\n",
            "\u001b[?25hInstalling collected packages: PyMuPDF\n",
            "Successfully installed PyMuPDF-1.25.2\n"
          ]
        }
      ]
    },
    {
      "cell_type": "code",
      "source": [
        "from sentence_transformers import SentenceTransformer, util\n",
        "import fitz  # PyMuPDF for PDFs\n",
        "import numpy as np\n",
        "import re\n",
        "import requests\n",
        "\n",
        "# Initialize Sentence-BERT model\n",
        "model = SentenceTransformer('all-MiniLM-L6-v2')\n",
        "\n",
        "# NVIDIA API details\n",
        "NVIDIA_API_URL = \"https://integrate.api.nvidia.com/v1/chat/completions\"\n",
        "API_KEY = \"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\"  # Replace with your valid NVIDIA API key\n",
        "\n",
        "# Function to load and parse Q&A from PDF\n",
        "def extract_qa_from_pdf(pdf_path):\n",
        "    doc = fitz.open(pdf_path)\n",
        "    text = \" \".join([page.get_text() for page in doc])\n",
        "\n",
        "    # Extract structured Q&A pairs using regex\n",
        "    qa_pairs = []\n",
        "    qa_pattern = r'\\\"question\\\":\\s*\\\"(.*?)\\\",\\s*\\\"answer\\\":\\s*\\\"(.*?)\\\"'\n",
        "    matches = re.findall(qa_pattern, text, re.DOTALL)\n",
        "\n",
        "    for match in matches:\n",
        "        question, answer = match\n",
        "        qa_pairs.append({\"question\": question.strip(), \"answer\": answer.strip()})\n",
        "\n",
        "    return qa_pairs\n",
        "\n",
        "# Retrieve best-matching answer\n",
        "def get_best_answer(user_question, qa_pairs):\n",
        "    questions = [qa[\"question\"] for qa in qa_pairs]\n",
        "    question_embeddings = model.encode(questions, convert_to_tensor=True)\n",
        "    user_embedding = model.encode(user_question, convert_to_tensor=True)\n",
        "\n",
        "    # Compute similarity scores\n",
        "    scores = util.cos_sim(user_embedding, question_embeddings).cpu().numpy()\n",
        "    best_match_idx = np.argmax(scores)\n",
        "    best_match_score = scores[0][best_match_idx]\n",
        "\n",
        "    # Set a similarity threshold to determine if it's a valid match\n",
        "    if best_match_score > 0.75:\n",
        "        return qa_pairs[best_match_idx][\"answer\"]\n",
        "    else:\n",
        "        return None  # No exact match found\n",
        "\n",
        "# NVIDIA API for additional responses\n",
        "def generate_answer_via_nvidia(question):\n",
        "    headers = {\"Authorization\": f\"Bearer {API_KEY}\"}\n",
        "    payload = {\n",
        "        \"model\": \"microsoft/phi-3-mini-128k-instruct\",\n",
        "        \"messages\": [{\"role\": \"user\", \"content\": question}],\n",
        "        \"temperature\": 0.2,\n",
        "        \"top_p\": 0.8,\n",
        "        \"max_tokens\": 300,\n",
        "    }\n",
        "\n",
        "    response = requests.post(NVIDIA_API_URL, json=payload, headers=headers)\n",
        "    response_data = response.json()\n",
        "\n",
        "    if response.status_code == 200 and \"choices\" in response_data:\n",
        "        return response_data[\"choices\"][0][\"message\"][\"content\"].strip()\n",
        "    else:\n",
        "        return \"I'm unable to find an answer.\"\n",
        "\n",
        "# Main function with a limit of 5 questions\n",
        "def main(pdf_path):\n",
        "    qa_pairs = extract_qa_from_pdf(pdf_path)\n",
        "    question_count = 0  # Counter for questions\n",
        "\n",
        "    while question_count < 5:  # Limit to 5 questions\n",
        "        user_question = input(f\"({question_count+1}/5) Enter your question (or type 'exit' to quit): \")\n",
        "        if user_question.lower() == \"exit\":\n",
        "            break\n",
        "\n",
        "        answer = get_best_answer(user_question, qa_pairs)\n",
        "\n",
        "        if answer:\n",
        "            print(f\"\\n✅ Answer: {answer}\")\n",
        "        else:\n",
        "            print(\"\\n❌ Exact match not found. Generating a response...\")\n",
        "            ai_answer = generate_answer_via_nvidia(user_question)\n",
        "            print(f\"\\n🤖 AI-Generated Answer: {ai_answer}\")\n",
        "\n",
        "        question_count += 1  # Increment question count\n",
        "\n",
        "    print(\"\\n🎯 You have reached the limit of 5 questions. Exiting...\")\n",
        "\n",
        "# Run with your PDF\n",
        "pdf_path = \"/content/Campus_Pal Content.pdf\"\n",
        "main(pdf_path)\n"
      ],
      "metadata": {
        "colab": {
          "base_uri": "https://localhost:8080/"
        },
        "id": "rHIUe81UX0xD",
        "outputId": "457bd9de-c351-404c-8ee7-7aeb01cc9de0"
      },
      "execution_count": null,
      "outputs": [
        {
          "output_type": "stream",
          "name": "stdout",
          "text": [
            "(1/5) Enter your question (or type 'exit' to quit): Who is the founder and Chancellor of Amrita Vishwa Vidyapeetham? \n",
            "\n",
            "✅ Answer: Sri Mata Amritanandamayi Devi, affectionately known as \n",
            "AMMA, is the founder and Chancellor of the university.\n",
            "(2/5) Enter your question (or type 'exit' to quit): How many campuses does Amrita Vishwa Vidyapeetham have, and can  you list them? \n",
            "\n",
            "✅ Answer: The university has multiple campuses, including \n",
            "Amritapuri, Amaravati, Bengaluru, Chennai, Coimbatore, Kochi, Mysuru, and \n",
            "Faridabad.\n",
            "(3/5) Enter your question (or type 'exit' to quit): What is the size of the Amritapuri campus at Amrita Vishwa  Vidyapeetham? \n",
            "\n",
            "✅ Answer: The campus spans over 80 acres of land.\n",
            "(4/5) Enter your question (or type 'exit' to quit): What is the tuition fee per semester for the B.B.A. (Business Analytics)  program for the academic year 2025-26? \n",
            "\n",
            "✅ Answer: Rs. 45,900.\n",
            "(5/5) Enter your question (or type 'exit' to quit): What is the NAAC accreditation grade for Amrita Vishwa Vidyapeetham? \n",
            "\n",
            "✅ Answer: The university has been accredited with an 'A++' grade \n",
            "by NAAC.\n",
            "\n",
            "🎯 You have reached the limit of 5 questions. Exiting...\n"
          ]
        }
      ]
    }
  ]
}